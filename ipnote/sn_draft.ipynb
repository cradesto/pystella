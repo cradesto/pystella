{
 "cells": [
  {
   "cell_type": "markdown",
   "metadata": {},
   "source": [
    "# General information about Stella model"
   ]
  },
  {
   "cell_type": "code",
   "execution_count": null,
   "metadata": {
    "collapsed": true
   },
   "outputs": [],
   "source": [
    "import os\n",
    "import sys\n",
    "sys.path.append(os.path.expanduser('~/Sn/Release/python/pystella'))\n",
    "sys.path.append(os.path.abspath(os.path.join('.')))\n",
    "\n",
    "%matplotlib inline\n",
    "from matplotlib import pyplot as plt\n",
    "from matplotlib import gridspec\n",
    "\n",
    "import numpy as np\n",
    "\n",
    "import pystella.rf.rad_func as rf\n",
    "from pystella.rf import extinction\n",
    "from pystella.rf import light_curve_func as lcf\n",
    "from pystella.rf import light_curve_plot as lcp\n",
    "from pystella.rf import band\n",
    "from pystella.model.stella import Stella\n",
    "from pystella.model import sn_eve \n",
    "from pystella.model import sn_swd"
   ]
  },
  {
   "cell_type": "markdown",
   "metadata": {},
   "source": [
    "## Parameters"
   ]
  },
  {
   "cell_type": "code",
   "execution_count": null,
   "metadata": {
    "collapsed": true
   },
   "outputs": [],
   "source": [
    "mname = 'cat_R500_M15_Ni008_E12'\n",
    "dir_strad = os.path.expanduser('~/Sn/Release/seb_git/run/strad')"
   ]
  },
  {
   "cell_type": "code",
   "execution_count": null,
   "metadata": {
    "collapsed": false
   },
   "outputs": [],
   "source": [
    "stella = Stella(mname, path=dir_strad)\n",
    "print(\"Print info from stella res-files\")\n",
    "info = stella.get_res().Info\n",
    "info.show()\n",
    "# info.Data"
   ]
  },
  {
   "cell_type": "markdown",
   "metadata": {},
   "source": [
    "### strad"
   ]
  },
  {
   "cell_type": "code",
   "execution_count": null,
   "metadata": {
    "collapsed": true
   },
   "outputs": [],
   "source": [
    "res = stella.get_res()"
   ]
  },
  {
   "cell_type": "markdown",
   "metadata": {},
   "source": [
    "## ubv "
   ]
  },
  {
   "cell_type": "code",
   "execution_count": null,
   "metadata": {
    "collapsed": false
   },
   "outputs": [],
   "source": [
    "bands = ['U', 'B', 'V']\n",
    "sn_z = 0.\n",
    "sn_dist = 10. # pc\n",
    "\n",
    "serial_spec = stella.read_series_spectrum(t_diff=1.05)\n",
    "curves = serial_spec.flux_to_curves(bands, z=sn_z, d=rf.pc_to_cm(sn_dist))\n",
    "ax = lcp.curves_plot(curves, xlim=None, ylim=None)"
   ]
  },
  {
   "cell_type": "markdown",
   "metadata": {},
   "source": [
    "###  swd"
   ]
  },
  {
   "cell_type": "code",
   "execution_count": null,
   "metadata": {
    "collapsed": false
   },
   "outputs": [],
   "source": [
    "times = (0.5, 1, 4, 10., 60., 110.)\n",
    "swd = stella.get_swd().load()\n",
    "fig = lcp.plot_shock_details(swd, times=times, vnorm=1e8)"
   ]
  },
  {
   "cell_type": "code",
   "execution_count": null,
   "metadata": {
    "collapsed": false
   },
   "outputs": [],
   "source": [
    "# # Plot\n",
    "# fig = plt.figure(num=None, figsize=(16, len(times)*4), dpi=100, facecolor='w', edgecolor='k')\n",
    "# gs1 = gridspec.GridSpec(len(times), 2)\n",
    "# plt.matplotlib.rcParams.update({'font.size': 14})\n",
    "# i = 0\n",
    "# for t in times:\n",
    "#     b = swd.block_nearest(t)\n",
    "#     ax = fig.add_subplot(gs1[i, 0])\n",
    "#     sn_swd.plot_swd(ax, b, is_xlabel=i==len(times)-1, vnorm=1e8, lumnorm=1e38, axeX='lgr',\n",
    "#                     is_legend=is_legend)\n",
    "#     ax2 = fig.add_subplot(gs1[i, 1])\n",
    "#     sn_swd.plot_swd(ax2, b, is_xlabel=i==len(times)-1, vnorm=1e8, lumnorm=1e38,\n",
    "#                     is_legend=is_legend, is_ylabel=False)\n",
    "#     i += 1\n",
    "# plt.show()"
   ]
  },
  {
   "cell_type": "markdown",
   "metadata": {},
   "source": [
    "### eve"
   ]
  },
  {
   "cell_type": "code",
   "execution_count": null,
   "metadata": {
    "collapsed": false
   },
   "outputs": [],
   "source": [
    "evename = None  # 'cat_R500_M15_Ni008'\n",
    "dir_eve = os.path.expanduser('~/Sn/Release/seb_git/run/eve')\n",
    "if evename is not None:\n",
    "    eve = sn_eve.StellaEve(evename, path=dir_eve)\n",
    "    eve.load()\n",
    "    ax = eve.plot_chem(ylim=[-8, 0.])\n",
    "    plt.show()"
   ]
  },
  {
   "cell_type": "code",
   "execution_count": null,
   "metadata": {
    "collapsed": true
   },
   "outputs": [],
   "source": []
  },
  {
   "cell_type": "code",
   "execution_count": null,
   "metadata": {
    "collapsed": true
   },
   "outputs": [],
   "source": []
  }
 ],
 "metadata": {
  "kernelspec": {
   "display_name": "Python 3",
   "language": "python",
   "name": "python3"
  },
  "language_info": {
   "codemirror_mode": {
    "name": "ipython",
    "version": 3
   },
   "file_extension": ".py",
   "mimetype": "text/x-python",
   "name": "python",
   "nbconvert_exporter": "python",
   "pygments_lexer": "ipython3",
   "version": "3.4.3"
  },
  "name": ""
 },
 "nbformat": 4,
 "nbformat_minor": 0
}
